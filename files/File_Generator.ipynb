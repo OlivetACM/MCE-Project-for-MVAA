{
 "cells": [
  {
   "cell_type": "code",
   "execution_count": 141,
   "metadata": {},
   "outputs": [],
   "source": [
    "from docx import Document\n",
    "from docx.enum.text import WD_ALIGN_PARAGRAPH\n",
    "\n",
    "document = Document('Test.docx')\n",
    "document.save('Test-Saved.docx')"
   ]
  },
  {
   "cell_type": "code",
   "execution_count": 2,
   "metadata": {},
   "outputs": [
    {
     "data": {
      "text/plain": [
       "<docx.section.Sections at 0x102e79710>"
      ]
     },
     "execution_count": 2,
     "metadata": {},
     "output_type": "execute_result"
    }
   ],
   "source": [
    "sections = document.sections\n",
    "sections"
   ]
  },
  {
   "cell_type": "code",
   "execution_count": 3,
   "metadata": {},
   "outputs": [
    {
     "data": {
      "text/plain": [
       "1"
      ]
     },
     "execution_count": 3,
     "metadata": {},
     "output_type": "execute_result"
    }
   ],
   "source": [
    "len(sections)"
   ]
  },
  {
   "cell_type": "code",
   "execution_count": 4,
   "metadata": {},
   "outputs": [
    {
     "name": "stdout",
     "output_type": "stream",
     "text": [
      "NEW_PAGE (2)\n"
     ]
    }
   ],
   "source": [
    "for section in sections:\n",
    "    print(section.start_type)"
   ]
  },
  {
   "cell_type": "code",
   "execution_count": 5,
   "metadata": {},
   "outputs": [],
   "source": [
    "tables = document.tables"
   ]
  },
  {
   "cell_type": "code",
   "execution_count": 6,
   "metadata": {},
   "outputs": [
    {
     "name": "stdout",
     "output_type": "stream",
     "text": [
      "<docx.table.Table object at 0x102568b38>\n",
      "<docx.table.Table object at 0x102568b70>\n",
      "<docx.table.Table object at 0x102eab8d0>\n"
     ]
    }
   ],
   "source": [
    "for table in tables:\n",
    "    print(table)"
   ]
  },
  {
   "cell_type": "code",
   "execution_count": 7,
   "metadata": {},
   "outputs": [],
   "source": [
    "table_one = tables[0]"
   ]
  },
  {
   "cell_type": "code",
   "execution_count": 8,
   "metadata": {},
   "outputs": [
    {
     "data": {
      "text/plain": [
       "<docx.table.Table at 0x102568b38>"
      ]
     },
     "execution_count": 8,
     "metadata": {},
     "output_type": "execute_result"
    }
   ],
   "source": [
    "table_one"
   ]
  },
  {
   "cell_type": "code",
   "execution_count": 9,
   "metadata": {},
   "outputs": [
    {
     "data": {
      "text/plain": [
       "20"
      ]
     },
     "execution_count": 9,
     "metadata": {},
     "output_type": "execute_result"
    }
   ],
   "source": [
    "len(table_one.rows)"
   ]
  },
  {
   "cell_type": "code",
   "execution_count": 10,
   "metadata": {},
   "outputs": [
    {
     "data": {
      "text/plain": [
       "6"
      ]
     },
     "execution_count": 10,
     "metadata": {},
     "output_type": "execute_result"
    }
   ],
   "source": [
    "len(table_one.columns)"
   ]
  },
  {
   "cell_type": "code",
   "execution_count": 11,
   "metadata": {},
   "outputs": [
    {
     "name": "stdout",
     "output_type": "stream",
     "text": [
      "Dates of Initiation: \n",
      "      \n"
     ]
    }
   ],
   "source": [
    "first_cell = table_one.cell(0,0)\n",
    "first_cell_text = first_cell.text\n",
    "print(first_cell_text)"
   ]
  },
  {
   "cell_type": "code",
   "execution_count": 12,
   "metadata": {},
   "outputs": [
    {
     "name": "stdout",
     "output_type": "stream",
     "text": [
      "D\n",
      "a\n",
      "t\n",
      "e\n",
      "s\n",
      " \n",
      "o\n",
      "f\n",
      " \n",
      "I\n",
      "n\n",
      "i\n",
      "t\n",
      "i\n",
      "a\n",
      "t\n",
      "i\n",
      "o\n",
      "n\n",
      ":\n",
      " \n",
      "\n",
      "\n",
      " \n",
      " \n",
      " \n",
      " \n",
      " \n",
      " \n"
     ]
    }
   ],
   "source": [
    "for i in range(0, len(first_cell_text)):\n",
    "    print(first_cell_text[i])"
   ]
  },
  {
   "cell_type": "code",
   "execution_count": 13,
   "metadata": {},
   "outputs": [
    {
     "data": {
      "text/plain": [
       "<docx.table._Cell at 0x102eb1e10>"
      ]
     },
     "execution_count": 13,
     "metadata": {},
     "output_type": "execute_result"
    }
   ],
   "source": [
    "text_cell = table_one.cell(3,0)\n",
    "text_cell"
   ]
  },
  {
   "cell_type": "code",
   "execution_count": 14,
   "metadata": {},
   "outputs": [],
   "source": [
    "text_cell.text += \"testing out\""
   ]
  },
  {
   "cell_type": "code",
   "execution_count": 15,
   "metadata": {},
   "outputs": [],
   "source": [
    "import datetime"
   ]
  },
  {
   "cell_type": "code",
   "execution_count": 16,
   "metadata": {},
   "outputs": [],
   "source": [
    "jst_course = \"\"\"ACE JST course number: NV-2201-0128 Expeditionary Combat Skills \n",
    "(Military Course Number A-830-0030)\"\"\"\n",
    "\n",
    "prof_name = \"Nick Juday\"\n",
    "\n",
    "oc_course = \"PE 107 First Aid (2 cr)\"\n",
    "\n",
    "department = \"HHP\"\n"
   ]
  },
  {
   "cell_type": "code",
   "execution_count": 317,
   "metadata": {},
   "outputs": [],
   "source": [
    "class Form_Generator:\n",
    "    def __init__(self, instructor_name, department, millitary_course, oc_course):\n",
    "        self.doc = Document('Test.docx')\n",
    "        self.total_tables = self.doc.tables\n",
    "        self.comp_table = self.total_tables[0]\n",
    "        self.date_cell = self.comp_table.cell(0,0)\n",
    "        self.millitary_course_cell = self.comp_table.cell(0,1)\n",
    "        self.instructor_name_cell = self.comp_table.cell(1,0)\n",
    "        self.oc_course_cell = self.comp_table.cell(1,1)\n",
    "        self.instr_name = instructor_name\n",
    "        self.dep_name = department\n",
    "        self.m_course = millitary_course\n",
    "        self.oc_course = oc_course\n",
    "        self.mc_row = 3\n",
    "        self.mc_column = 1\n",
    "        self.oc_row = 3\n",
    "        self.oc_column = 0\n",
    "        self.Fill_Course_Info()\n",
    "        \n",
    "    def Add_Checkbox(self, jst_outcome):\n",
    "        column_check_add = self.mc_column + 1\n",
    "        print(len(jst_outcome))\n",
    "        \n",
    "        for i in range(column_check_add, len(self.comp_table.columns)):\n",
    "            cell_check_add = self.comp_table.cell(self.mc_row, i)\n",
    "            para = cell_check_add.add_paragraph(\"\\u2610\")\n",
    "            para_format = para.paragraph_format\n",
    "            print(para_format.alignment)\n",
    "            #if len(jst_outcome) > 50:\n",
    "             #   cell_check_add.text += \"\\n\\n\\n\"\n",
    "            #else:\n",
    "            #    cell_check_add.text += \"\\n\\n\"\n",
    "            para_format.alignment = WD_ALIGN_PARAGRAPH.CENTER\n",
    "            print(para_format.alignment)\n",
    "            \n",
    "            \n",
    "    \n",
    "    def Fill_Course_Info(self):\n",
    "        now = datetime.datetime.now()\n",
    "        self.date_cell.text = \"Date of Initiation:\\n\" + str(now.month) + \"-\" + str(now.day) + \"-\" + str(now.year)\n",
    "        self.millitary_course_cell.text = \"JST or AU course for which Credit/Equivalency is sought:\\n\" + self.m_course\n",
    "        self.instructor_name_cell.text = \"Evaluator Name:\\n\" + self.instr_name + \"\\nDepartment:\\n\" + self.dep_name\n",
    "        self.oc_course_cell.text = \"Olivet College course being considered for possible equivalency:\\n\" + self.oc_course\n",
    "        \n",
    "    def Olivet_Course_Outcomes(self, c_outcome):\n",
    "        self.oc_outcome_cell = self.comp_table.cell(self.oc_row,self.oc_column)\n",
    "        self.oc_outcome_cell.text = c_outcome\n",
    "        self.oc_row+=1\n",
    "    \n",
    "    def JST_Outcomes(self, jst_outcome, new_cell = False):\n",
    "        if new_cell == True:\n",
    "            self.mc_row+=1\n",
    "        self.mc_outcome_cell = self.comp_table.cell(self.mc_row,self.mc_column)\n",
    "        self.mc_outcome_cell.text += jst_outcome + \"\\n\\n\"\n",
    "        self.Add_Checkbox(jst_outcome)\n",
    "    \n",
    "    def Like_Outcomes(self, c_outcome, jst_outcome):\n",
    "        self.Olivet_Course_Outcomes(c_outcome)\n",
    "        for i in range(0, len(jst_outcome)):\n",
    "            self.JST_Outcomes(jst_outcome[i])\n",
    "        self.mc_row+=1\n",
    "        \n",
    "    def Email_Doc(self):\n",
    "        pass\n",
    "    \n",
    "    def Save_Doc(self):\n",
    "        self.doc.save('Test-Saved.docx')"
   ]
  },
  {
   "cell_type": "code",
   "execution_count": 318,
   "metadata": {},
   "outputs": [],
   "source": [
    "oc_learning_outcomes = [\"1. Identify ways to prevent injury and / or illness.\", \"2. Recognize when an emergency has occurred and activate the EMS system.\", \"3. Follow the emergency action steps in any emergency.\", \"4. Identify the major body systems to provide appropriate care.\", \"5. Provide basic care for an injury and / or sudden illness until the victim can receive professional medical help, including CPR skills for the adult, child and infant.\"]\n",
    "mc_learning_outcomes = [\"identify and safely handle counter-improvised explosive devices;\", \"chemical, biological, radiological and nuclear training;\", \"casualty care;\", \"pulse check and blood sweep;\", \"This is a learning outcome for the MCE that is very long, longer than all the others just as a test\"]"
   ]
  },
  {
   "cell_type": "markdown",
   "metadata": {},
   "source": [
    "# Testing of adding outcomes seperatly"
   ]
  },
  {
   "cell_type": "code",
   "execution_count": 319,
   "metadata": {},
   "outputs": [],
   "source": [
    "form_gen = Form_Generator(prof_name, department, jst_course, oc_course)"
   ]
  },
  {
   "cell_type": "code",
   "execution_count": 320,
   "metadata": {},
   "outputs": [],
   "source": [
    "form_gen.Olivet_Course_Outcomes(oc_learning_outcomes[0])"
   ]
  },
  {
   "cell_type": "code",
   "execution_count": 321,
   "metadata": {},
   "outputs": [],
   "source": [
    "form_gen.Olivet_Course_Outcomes(oc_learning_outcomes[1])"
   ]
  },
  {
   "cell_type": "code",
   "execution_count": 322,
   "metadata": {},
   "outputs": [
    {
     "name": "stdout",
     "output_type": "stream",
     "text": [
      "64\n",
      "None\n",
      "CENTER (1)\n",
      "None\n",
      "CENTER (1)\n",
      "None\n",
      "CENTER (1)\n",
      "None\n",
      "CENTER (1)\n"
     ]
    }
   ],
   "source": [
    "form_gen.JST_Outcomes(mc_learning_outcomes[0])"
   ]
  },
  {
   "cell_type": "code",
   "execution_count": 323,
   "metadata": {},
   "outputs": [
    {
     "name": "stdout",
     "output_type": "stream",
     "text": [
      "56\n",
      "None\n",
      "CENTER (1)\n",
      "None\n",
      "CENTER (1)\n",
      "None\n",
      "CENTER (1)\n",
      "None\n",
      "CENTER (1)\n"
     ]
    }
   ],
   "source": [
    "form_gen.JST_Outcomes(mc_learning_outcomes[1])"
   ]
  },
  {
   "cell_type": "code",
   "execution_count": 324,
   "metadata": {},
   "outputs": [
    {
     "name": "stdout",
     "output_type": "stream",
     "text": [
      "28\n",
      "None\n",
      "CENTER (1)\n",
      "None\n",
      "CENTER (1)\n",
      "None\n",
      "CENTER (1)\n",
      "None\n",
      "CENTER (1)\n"
     ]
    }
   ],
   "source": [
    "form_gen.JST_Outcomes(mc_learning_outcomes[3], True)"
   ]
  },
  {
   "cell_type": "code",
   "execution_count": 325,
   "metadata": {},
   "outputs": [],
   "source": [
    "form_gen.Save_Doc()"
   ]
  },
  {
   "cell_type": "markdown",
   "metadata": {},
   "source": [
    "# Testing of adding OC outcomes and then like JST"
   ]
  },
  {
   "cell_type": "code",
   "execution_count": 163,
   "metadata": {},
   "outputs": [],
   "source": [
    "form_gen = Form_Generator(prof_name, department, jst_course, oc_course)"
   ]
  },
  {
   "cell_type": "code",
   "execution_count": 164,
   "metadata": {},
   "outputs": [
    {
     "name": "stdout",
     "output_type": "stream",
     "text": [
      "64\n",
      "56\n",
      "14\n",
      "28\n",
      "99\n"
     ]
    }
   ],
   "source": [
    "form_gen.Like_Outcomes(oc_learning_outcomes[0], mc_learning_outcomes)"
   ]
  },
  {
   "cell_type": "code",
   "execution_count": 161,
   "metadata": {},
   "outputs": [],
   "source": [
    "form_gen.Save_Doc()"
   ]
  },
  {
   "cell_type": "code",
   "execution_count": null,
   "metadata": {},
   "outputs": [],
   "source": []
  },
  {
   "cell_type": "code",
   "execution_count": null,
   "metadata": {},
   "outputs": [],
   "source": []
  },
  {
   "cell_type": "code",
   "execution_count": null,
   "metadata": {},
   "outputs": [],
   "source": []
  },
  {
   "cell_type": "code",
   "execution_count": null,
   "metadata": {},
   "outputs": [],
   "source": []
  }
 ],
 "metadata": {
  "kernelspec": {
   "display_name": "Python 3",
   "language": "python",
   "name": "python3"
  },
  "language_info": {
   "codemirror_mode": {
    "name": "ipython",
    "version": 3
   },
   "file_extension": ".py",
   "mimetype": "text/x-python",
   "name": "python",
   "nbconvert_exporter": "python",
   "pygments_lexer": "ipython3",
   "version": "3.7.2"
  }
 },
 "nbformat": 4,
 "nbformat_minor": 2
}
